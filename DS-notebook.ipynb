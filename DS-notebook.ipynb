{
  "cells": [
    {
      "cell_type": "markdown",
      "metadata": {
        "colab_type": "text",
        "id": "view-in-github"
      },
      "source": [
        "<a href=\"https://colab.research.google.com/github/zbazanowski/DS-Demo-2025/blob/main/DS-notebook.ipynb\" target=\"_parent\"><img src=\"https://colab.research.google.com/assets/colab-badge.svg\" alt=\"Open In Colab\"/></a>"
      ]
    },
    {
      "cell_type": "code",
      "execution_count": null,
      "metadata": {
        "id": "nhLia-hyw4BW"
      },
      "outputs": [],
      "source": []
    },
    {
      "cell_type": "markdown",
      "metadata": {
        "id": "b7wVaJJyw-9p"
      },
      "source": [
        "## Ingest"
      ]
    },
    {
      "cell_type": "markdown",
      "metadata": {
        "id": "Idq_2BbqxDKb"
      },
      "source": [
        "## EDA"
      ]
    },
    {
      "cell_type": "code",
      "execution_count": 1,
      "metadata": {
        "id": "sWVoX_PyxPE7"
      },
      "outputs": [
        {
          "name": "stdout",
          "output_type": "stream",
          "text": [
            "EDA\n"
          ]
        }
      ],
      "source": [
        "print(\"EDA\")"
      ]
    },
    {
      "cell_type": "markdown",
      "metadata": {
        "id": "1z13X6kYxGW3"
      },
      "source": [
        "## Modelling"
      ]
    },
    {
      "cell_type": "markdown",
      "metadata": {
        "id": "tZzGT1c4xWGw"
      },
      "source": [
        "### Classifocation Algorithm A"
      ]
    },
    {
      "cell_type": "markdown",
      "metadata": {
        "id": "d2O1bX99xbj9"
      },
      "source": [
        "### Classification Algarithm B"
      ]
    },
    {
      "cell_type": "markdown",
      "metadata": {
        "id": "atdePfo9xJrD"
      },
      "source": [
        "## Conclusion"
      ]
    }
  ],
  "metadata": {
    "colab": {
      "authorship_tag": "ABX9TyOoKS5boOOwg/lwKBcrROdT",
      "include_colab_link": true,
      "provenance": [],
      "toc_visible": true
    },
    "kernelspec": {
      "display_name": "Python 3",
      "name": "python3"
    },
    "language_info": {
      "codemirror_mode": {
        "name": "ipython",
        "version": 3
      },
      "file_extension": ".py",
      "mimetype": "text/x-python",
      "name": "python",
      "nbconvert_exporter": "python",
      "pygments_lexer": "ipython3",
      "version": "3.12.1"
    }
  },
  "nbformat": 4,
  "nbformat_minor": 0
}
