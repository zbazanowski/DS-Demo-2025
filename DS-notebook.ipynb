{
  "nbformat": 4,
  "nbformat_minor": 0,
  "metadata": {
    "colab": {
      "provenance": [],
      "toc_visible": true,
      "authorship_tag": "ABX9TyOoKS5boOOwg/lwKBcrROdT",
      "include_colab_link": true
    },
    "kernelspec": {
      "name": "python3",
      "display_name": "Python 3"
    },
    "language_info": {
      "name": "python"
    }
  },
  "cells": [
    {
      "cell_type": "markdown",
      "metadata": {
        "id": "view-in-github",
        "colab_type": "text"
      },
      "source": [
        "<a href=\"https://colab.research.google.com/github/zbazanowski/DS-Demo-2025/blob/main/DS-notebook.ipynb\" target=\"_parent\"><img src=\"https://colab.research.google.com/assets/colab-badge.svg\" alt=\"Open In Colab\"/></a>"
      ]
    },
    {
      "cell_type": "code",
      "execution_count": null,
      "metadata": {
        "id": "nhLia-hyw4BW"
      },
      "outputs": [],
      "source": []
    },
    {
      "cell_type": "markdown",
      "source": [
        "## Ingest"
      ],
      "metadata": {
        "id": "b7wVaJJyw-9p"
      }
    },
    {
      "cell_type": "markdown",
      "source": [
        "## EDA"
      ],
      "metadata": {
        "id": "Idq_2BbqxDKb"
      }
    },
    {
      "cell_type": "code",
      "source": [
        "print(\"EDA\")"
      ],
      "metadata": {
        "id": "sWVoX_PyxPE7"
      },
      "execution_count": null,
      "outputs": []
    },
    {
      "cell_type": "markdown",
      "source": [
        "## Modelling"
      ],
      "metadata": {
        "id": "1z13X6kYxGW3"
      }
    },
    {
      "cell_type": "markdown",
      "source": [
        "### Classifocation Algorithm A"
      ],
      "metadata": {
        "id": "tZzGT1c4xWGw"
      }
    },
    {
      "cell_type": "markdown",
      "source": [
        "### Classification Algarithm B"
      ],
      "metadata": {
        "id": "d2O1bX99xbj9"
      }
    },
    {
      "cell_type": "markdown",
      "source": [
        "## Conclusion"
      ],
      "metadata": {
        "id": "atdePfo9xJrD"
      }
    }
  ]
}